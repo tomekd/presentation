{
 "cells": [
  {
   "cell_type": "markdown",
   "metadata": {
    "slideshow": {
     "slide_type": "skip"
    }
   },
   "source": [
    "Plan:\n",
    " * 3-minute introduction to Neural Networks\n",
    "  * A sequence of operations\n",
    "  * or in details DAG\n",
    "  * Training: backpropagation\n",
    " * Convolution layers:\n",
    "  * Motivation:\n",
    "    * FFT?\n",
    "    * Filters?\n",
    "  * Params:\n",
    "    * Paddings\n",
    "    * spartial conv\n",
    "    * Layers\n",
    "    * formula\n",
    "    * kernel dims\n",
    "  * Convnets in CV:\n",
    "    * MNIST\n",
    "  * Convnets in NLP:\n",
    "    * character-level LM"
   ]
  },
  {
   "cell_type": "markdown",
   "metadata": {
    "slideshow": {
     "slide_type": "slide"
    }
   },
   "source": [
    "# Sieci Konwolucyjne w przetwarzaniu obrazów i tekstu\n",
    "\n",
    "### Tomasz Dwojak\n",
    "\n",
    "### 24 kwietnia 2018"
   ]
  },
  {
   "cell_type": "markdown",
   "metadata": {
    "slideshow": {
     "slide_type": "slide"
    }
   },
   "source": [
    "### Wprowadzenie do NNs"
   ]
  },
  {
   "cell_type": "markdown",
   "metadata": {
    "slideshow": {
     "slide_type": "fragment"
    }
   },
   "source": [
    " * podstawowe klocki: warstawy\n",
    " * układanie puzzli z klocków\n",
    " * wejście: $x \\in {R}^{n \\cdot m \\cdot k \\cdot l}$ - [tensor](https://stats.stackexchange.com/questions/198061/why-the-sudden-fascination-with-tensors):\n",
    "  * 0D tensor to skalar,\n",
    "  * 1D tensor to wektor,\n",
    "  * 2D tensor to macierz...\n",
    "  * 4D tensor to *macierz macierzy*"
   ]
  },
  {
   "cell_type": "code",
   "execution_count": 26,
   "metadata": {
    "slideshow": {
     "slide_type": "skip"
    }
   },
   "outputs": [],
   "source": [
    "import os\n",
    "import struct\n",
    "import numpy as np\n",
    "\n",
    "def readMnist(dataset = \"training\", path = \".\"):\n",
    "    \"\"\"\n",
    "    Python function for importing the MNIST data set.  It returns an iterator\n",
    "    of 2-tuples with the first element being the label and the second element\n",
    "    being a numpy.uint8 2D array of pixel data for the given image.\n",
    "    \"\"\"\n",
    "\n",
    "    if dataset is \"training\":\n",
    "        fname_img = os.path.join(path, 'train-images-idx3-ubyte')\n",
    "        fname_lbl = os.path.join(path, 'train-labels-idx1-ubyte')\n",
    "    elif dataset is \"testing\":\n",
    "        fname_img = os.path.join(path, 't10k-images-idx3-ubyte')\n",
    "        fname_lbl = os.path.join(path, 't10k-labels-idx1-ubyte')\n",
    "    else:\n",
    "        raise ValueError(\"dataset must be 'testing' or 'training'\")\n",
    "\n",
    "    # Load everything in some numpy arrays\n",
    "    with open(fname_lbl, 'rb') as flbl:\n",
    "        magic, num = struct.unpack(\">II\", flbl.read(8))\n",
    "        lbl = np.fromfile(flbl, dtype=np.int8)\n",
    "\n",
    "    with open(fname_img, 'rb') as fimg:\n",
    "        magic, num, rows, cols = struct.unpack(\">IIII\", fimg.read(16))\n",
    "        img = np.fromfile(fimg, dtype=np.uint8).reshape(len(lbl), rows, cols)\n",
    "        img = img.astype(np.float32)\n",
    "\n",
    "    get_img = lambda idx: (lbl[idx], img[idx])\n",
    "\n",
    "    return [get_img(i) for i in range(len(lbl))]"
   ]
  },
  {
   "cell_type": "code",
   "execution_count": 27,
   "metadata": {
    "slideshow": {
     "slide_type": "skip"
    }
   },
   "outputs": [],
   "source": [
    "def showImage(image):\n",
    "    \"\"\"\n",
    "    Render a given numpy.uint8 2D array of pixel data.\n",
    "    \"\"\"\n",
    "    from matplotlib import pyplot\n",
    "    import matplotlib as mpl\n",
    "    fig = pyplot.figure()\n",
    "    ax = fig.add_subplot(1,1,1)\n",
    "    imgplot = ax.imshow(image, cmap=mpl.cm.Greys)\n",
    "    imgplot.set_interpolation('nearest')\n",
    "    ax.xaxis.set_ticks_position('top')\n",
    "    ax.yaxis.set_ticks_position('left')\n",
    "    pyplot.show()"
   ]
  },
  {
   "cell_type": "code",
   "execution_count": 30,
   "metadata": {
    "slideshow": {
     "slide_type": "skip"
    }
   },
   "outputs": [
    {
     "name": "stdout",
     "output_type": "stream",
     "text": [
      "(28, 28)\n"
     ]
    }
   ],
   "source": [
    "training = readMnist()\n",
    "print(training[0][1].shape)"
   ]
  },
  {
   "cell_type": "markdown",
   "metadata": {
    "slideshow": {
     "slide_type": "subslide"
    }
   },
   "source": [
    "Warstwy (ang. *layers*):\n",
    " * liniowa: $ x \\leftarrow xW + b$\n",
    " * element-wise: $ x\\cdot W$\n",
    " * nieliniowe (f. aktywacji): np. $x \\leftarrow \\tanh(x)$, $x \\leftarrow \\sigma(x)$, $\\DeclareMathOperator{\\relu}{ReLU} x \\leftarrow \\relu(x)$\n",
    " * pooling:, np. max-pooling, ave-pooling\n",
    " * RNN: LSTM, GRU\n",
    " * Konwolucyjna: $x * W$"
   ]
  },
  {
   "cell_type": "markdown",
   "metadata": {
    "slideshow": {
     "slide_type": "subslide"
    }
   },
   "source": [
    "### Training\n",
    "\n",
    " * forward\n",
    " * computing loss function, e.g. MSE, CE\n",
    " * backward (back propagation)\n",
    " * update weights\n",
    " * repeat til some condition..."
   ]
  },
  {
   "cell_type": "code",
   "execution_count": 32,
   "metadata": {
    "slideshow": {
     "slide_type": "subslide"
    }
   },
   "outputs": [],
   "source": [
    "def train_epoch(model, criterion, optimizer):\n",
    "    model.train()\n",
    "    for batch in batch_generator():\n",
    "        optimizer.zero_grad()\n",
    "        \n",
    "        inputs = Variable(torch.from_numpy(batch[0]))\n",
    "        labels = Variable(torch.from_numpy(batch[1]))\n",
    "        \n",
    "        outputs = model(inputs)\n",
    "        loss = criterion(outputs, labels)\n",
    "        loss.backward()\n",
    "\n",
    "        optimizer.step()"
   ]
  },
  {
   "cell_type": "markdown",
   "metadata": {
    "slideshow": {
     "slide_type": "slide"
    }
   },
   "source": [
    "### Images in ML"
   ]
  },
  {
   "cell_type": "code",
   "execution_count": 20,
   "metadata": {
    "slideshow": {
     "slide_type": "fragment"
    }
   },
   "outputs": [
    {
     "data": {
      "image/png": "[encoded data removed]",
      "text/plain": [
       "<matplotlib.figure.Figure at 0x7f2748dc92e8>"
      ]
     },
     "metadata": {},
     "output_type": "display_data"
    }
   ],
   "source": [
    "showImage(training[0][1])"
   ]
  },
  {
   "cell_type": "code",
   "execution_count": 31,
   "metadata": {
    "slideshow": {
     "slide_type": "subslide"
    }
   },
   "outputs": [
    {
     "name": "stdout",
     "output_type": "stream",
     "text": [
      "0000000000000000000000000000\n",
      "0000000000000000000000000000\n",
      "0000000000000000000000000000\n",
      "0000000000000000000000000000\n",
      "0000000000000000000000000000\n",
      "0000000000001111111111110000\n",
      "0000000011111111111111110000\n",
      "0000000111111111111111100000\n",
      "0000000111111111110000000000\n",
      "0000000011111110110000000000\n",
      "0000000001111100000000000000\n",
      "0000000000011110000000000000\n",
      "0000000000011110000000000000\n",
      "0000000000001111110000000000\n",
      "0000000000000111111000000000\n",
      "0000000000000011111100000000\n",
      "0000000000000001111100000000\n",
      "0000000000000000011110000000\n",
      "0000000000000011111110000000\n",
      "0000000000001111111100000000\n",
      "0000000000111111111000000000\n",
      "0000000011111111110000000000\n",
      "0000001111111111000000000000\n",
      "0000111111111100000000000000\n",
      "0000111111110000000000000000\n",
      "0000000000000000000000000000\n",
      "0000000000000000000000000000\n",
      "0000000000000000000000000000\n"
     ]
    }
   ],
   "source": [
    "example = ''\n",
    "print('\\n'.join([''.join([str(int(bool(col))) for col in row]) for row in training[0][1]]))"
   ]
  },
  {
   "cell_type": "markdown",
   "metadata": {
    "slideshow": {
     "slide_type": "slide"
    }
   },
   "source": [
    "### Convolutions\n",
    "\n",
    "$$\n",
    "s(t) = \\int_{-\\infty}^{+\\infty}{x(a)w(t-a)da}\n",
    "$$\n",
    "\n",
    "$$\n",
    "s(t) = (x * w)(t)\n",
    "$$"
   ]
  },
  {
   "cell_type": "markdown",
   "metadata": {
    "slideshow": {
     "slide_type": "subslide"
    }
   },
   "source": [
    "$$\n",
    "s(t) = \\sum_{a=-\\infty}^{\\infty}{x(a)w(t-a)}\n",
    "$$"
   ]
  },
  {
   "cell_type": "markdown",
   "metadata": {
    "slideshow": {
     "slide_type": "subslide"
    }
   },
   "source": [
    "$$\n",
    "S(i, j) = (I * K)(i,j) = \\sum_{m}\\sum_{n}{I(m,n) \\cdot K(i-m,j-n)}\n",
    "$$\n",
    "\n",
    "$$\n",
    "S(i, j) = (K * I)(i,j) = \\sum_{m}\\sum_{n}{I(i-m, j-n) \\cdot K(m,n)}\n",
    "$$\n",
    "\n",
    "$$\n",
    "S(i, j) = (K * I)(i,j) = \\sum_{m}\\sum_{n}{I(i+m, j+n) \\cdot K(m,n)}\n",
    "$$"
   ]
  },
  {
   "cell_type": "markdown",
   "metadata": {
    "slideshow": {
     "slide_type": "subslide"
    }
   },
   "source": [
    "$$\n",
    "S(i, j) = (K * I)(i,j) = b + \\sum_{m}{\\sum_{n}{I(i+m, j+n) \\cdot K(m,n)}}\n",
    "$$"
   ]
  },
  {
   "cell_type": "markdown",
   "metadata": {
    "slideshow": {
     "slide_type": "slide"
    }
   },
   "source": [
    "### Convnets\n",
    "\n",
    "Previously, we had to find filters (a.k.a. kernels) manually:"
   ]
  },
  {
   "cell_type": "markdown",
   "metadata": {
    "slideshow": {
     "slide_type": "slide"
    }
   },
   "source": [
    "<center>![](FirstPixelMulitiplication.png)</center>"
   ]
  },
  {
   "cell_type": "markdown",
   "metadata": {
    "slideshow": {
     "slide_type": "subslide"
    }
   },
   "source": [
    "<center>![](./Convolution_schematic.gif)</center>"
   ]
  },
  {
   "cell_type": "code",
   "execution_count": 63,
   "metadata": {
    "slideshow": {
     "slide_type": "subslide"
    }
   },
   "outputs": [],
   "source": [
    "kernel = [0.0, 1.0, 0.0,\n",
    "          1.0, 0.0, 1.0,\n",
    "          0.0, 1.0, 0.0]"
   ]
  },
  {
   "cell_type": "code",
   "execution_count": 64,
   "metadata": {
    "slideshow": {
     "slide_type": "subslide"
    }
   },
   "outputs": [
    {
     "data": {
      "image/png": "[encoded data removed]",
      "text/plain": [
       "<matplotlib.figure.Figure at 0x7fc5e61ac550>"
      ]
     },
     "metadata": {},
     "output_type": "display_data"
    }
   ],
   "source": [
    "inputs = Variable(torch.from_numpy(training[0][1])).unsqueeze(0).unsqueeze(0)\n",
    "vertical = nn.Conv2d(1, 1, 3, padding=1, bias=False)\n",
    "vertical.weight.data = torch.from_numpy(np.array(kernel, dtype=np.float32).reshape((1, 1, 3, 3)))\n",
    "output = vertical(inputs)\n",
    "showImage(output.data.numpy().reshape((28, 28)) / 3)"
   ]
  },
  {
   "cell_type": "markdown",
   "metadata": {
    "slideshow": {
     "slide_type": "subslide"
    }
   },
   "source": [
    "### Convnets and DL\n",
    "\n",
    "let NN to learn its own filters!"
   ]
  },
  {
   "cell_type": "markdown",
   "metadata": {
    "slideshow": {
     "slide_type": "slide"
    }
   },
   "source": [
    "$$\n",
    "Convnet \\rightarrow activation \\rightarrow pooling\n",
    "$$"
   ]
  },
  {
   "cell_type": "markdown",
   "metadata": {
    "slideshow": {
     "slide_type": "fragment"
    }
   },
   "source": [
    "<center>![](./LeNet.png)</center>"
   ]
  },
  {
   "cell_type": "code",
   "execution_count": 67,
   "metadata": {
    "slideshow": {
     "slide_type": "subslide"
    }
   },
   "outputs": [],
   "source": [
    "class LeNet(nn.Module):\n",
    "    def __init__(self):\n",
    "        super(LeNet, self).__init__()\n",
    "        self.conv1 = nn.Conv2d(1, 6, (5,5), padding=2)\n",
    "        self.conv2 = nn.Conv2d(6, 16, (5,5))\n",
    "        self.fc1   = nn.Linear(16*5*5, 120)\n",
    "        self.fc2   = nn.Linear(120, 84)\n",
    "        self.fc3   = nn.Linear(84, 10)\n",
    "        \n",
    "    def forward(self, x):\n",
    "        x = F.max_pool2d(F.relu(self.conv1(x)), (2,2))\n",
    "        x = F.max_pool2d(F.relu(self.conv2(x)), (2,2))\n",
    "        x = x.view(-1, self.num_flat_features(x))\n",
    "        x = F.relu(self.fc1(x))\n",
    "        x = F.relu(self.fc2(x))\n",
    "        x = self.fc3(x)\n",
    "        return x"
   ]
  },
  {
   "cell_type": "markdown",
   "metadata": {
    "slideshow": {
     "slide_type": "slide"
    }
   },
   "source": [
    "### AlexNet\n",
    "![](./AlexNet.png)"
   ]
  },
  {
   "cell_type": "markdown",
   "metadata": {
    "slideshow": {
     "slide_type": "subslide"
    }
   },
   "source": [
    " * Trained the network on ImageNet data, which contained over 15 million annotated images from a total of over 22,000 categories.\n",
    " * Used ReLU for the nonlinearity functions (Found to decrease training time as ReLUs are several times faster than the conventional tanh function).\n",
    " * Used data augmentation techniques that consisted of image translations, horizontal reflections, and patch extractions.\n",
    " * Implemented dropout layers in order to combat the problem of overfitting to the training data.\n",
    " * Trained the model using batch stochastic gradient descent, with specific values for momentum and weight decay.\n",
    " * Trained on two GTX 580 GPUs for five to six days."
   ]
  },
  {
   "cell_type": "markdown",
   "metadata": {
    "slideshow": {
     "slide_type": "subslide"
    }
   },
   "source": [
    "<center>![](./weights.jpeg)</center>"
   ]
  },
  {
   "cell_type": "markdown",
   "metadata": {
    "slideshow": {
     "slide_type": "slide"
    }
   },
   "source": [
    "### GoogLeNet\n",
    "<center>![](./GoogLeNet.png)</center>"
   ]
  },
  {
   "cell_type": "markdown",
   "metadata": {
    "slideshow": {
     "slide_type": "subslide"
    }
   },
   "source": [
    "## Inception\n",
    "<center>![](./GoogLeNet3.png)</center>"
   ]
  },
  {
   "cell_type": "markdown",
   "metadata": {
    "slideshow": {
     "slide_type": "slide"
    }
   },
   "source": [
    "### And deeper\n",
    " * ResNet (157 layers)\n",
    " * GANs\n",
    " * and many more..."
   ]
  },
  {
   "cell_type": "markdown",
   "metadata": {
    "slideshow": {
     "slide_type": "slide"
    }
   },
   "source": [
    "<center>![](./Encoder7-1.png)</center>"
   ]
  },
  {
   "cell_type": "markdown",
   "metadata": {
    "slideshow": {
     "slide_type": "slide"
    }
   },
   "source": [
    "### LSTM: Long Short Term Memory\n",
    "![](./LSTM3-chain.png)"
   ]
  },
  {
   "cell_type": "markdown",
   "metadata": {
    "slideshow": {
     "slide_type": "subslide"
    }
   },
   "source": [
    "### Character level Language Model\n",
    "<center>![](./network.png)</center>"
   ]
  },
  {
   "cell_type": "markdown",
   "metadata": {
    "slideshow": {
     "slide_type": "slide"
    }
   },
   "source": [
    "### FAIR seq\n",
    "\n",
    "<center>![](./fair.png)</center>"
   ]
  },
  {
   "cell_type": "code",
   "execution_count": 60,
   "metadata": {
    "slideshow": {
     "slide_type": "skip"
    }
   },
   "outputs": [],
   "source": [
    "import torch\n",
    "import torch.nn.functional as F\n",
    "from sklearn.metrics import precision_recall_fscore_support\n",
    "from torch import nn, optim\n",
    "from torch.autograd import Variable\n",
    "from torch.nn.utils import weight_norm\n",
    "from torch.utils.data import DataLoader, TensorDataset"
   ]
  },
  {
   "cell_type": "markdown",
   "metadata": {
    "slideshow": {
     "slide_type": "slide"
    }
   },
   "source": [
    "### Bibliography and sources\n",
    "\n",
    " * [Course on Stanford](https://cs231n.github.io/convolutional-networks/)\n",
    " * [adeshpande3.github.io](https://adeshpande3.github.io/A-Beginner%27s-Guide-To-Understanding-Convolutional-Neural-Networks/)\n",
    " * [UFLDL](http://ufldl.stanford.edu/tutorial/supervised/LogisticRegression/)\n",
    " * [Chapter on CNN in Deep Learning book](http://www.deeplearningbook.org/contents/convnets.html)\n",
    " * [AlexNet Paper](https://papers.nips.cc/paper/4824-imagenet-classification-with-deep-convolutional-neural-networks.pdf)"
   ]
  },
  {
   "cell_type": "markdown",
   "metadata": {
    "slideshow": {
     "slide_type": "slide"
    }
   },
   "source": [
    "### That's all for today!\n",
    "\n",
    "### Questions? "
   ]
  },
  {
   "cell_type": "code",
   "execution_count": null,
   "metadata": {},
   "outputs": [],
   "source": []
  }
 ],
 "metadata": {
  "celltoolbar": "Slideshow",
  "kernelspec": {
   "display_name": "Python 3",
   "language": "python",
   "name": "python3"
  },
  "language_info": {
   "codemirror_mode": {
    "name": "ipython",
    "version": 3
   },
   "file_extension": ".py",
   "mimetype": "text/x-python",
   "name": "python",
   "nbconvert_exporter": "python",
   "pygments_lexer": "ipython3",
   "version": "3.6.4"
  }
 },
 "nbformat": 4,
 "nbformat_minor": 2
}
